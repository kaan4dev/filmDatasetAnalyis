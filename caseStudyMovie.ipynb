{
  "cells": [
    {
      "cell_type": "markdown",
      "metadata": {
        "id": "dSwNXMLVnwV7"
      },
      "source": [
        "## Step 0: Imports and Reading Data"
      ]
    },
    {
      "cell_type": "code",
      "execution_count": null,
      "metadata": {
        "ExecuteTime": {
          "end_time": "2025-02-28T12:41:55.029660Z",
          "start_time": "2025-02-28T12:41:44.180734Z"
        },
        "colab": {
          "base_uri": "https://localhost:8080/"
        },
        "id": "_m2TmIZinwV_",
        "outputId": "468826dd-7e4b-40eb-c726-15fb7d61db14"
      },
      "outputs": [],
      "source": [
        "import pandas as pd\n",
        "import numpy as np\n",
        "import matplotlib.pyplot as plt\n",
        "import matplotlib.patches as patches\n",
        "import matplotlib.ticker as mtick\n",
        "import matplotlib.lines as lines\n",
        "import matplotlib.image as mpimg\n",
        "import matplotlib.colors as mcolors\n",
        "import seaborn as sns\n",
        "import ast\n",
        "\n",
        "import warnings\n",
        "warnings.filterwarnings('ignore')"
      ]
    },
    {
      "cell_type": "code",
      "execution_count": null,
      "metadata": {
        "ExecuteTime": {
          "end_time": "2025-02-28T12:41:57.508717Z",
          "start_time": "2025-02-28T12:41:55.046609Z"
        },
        "id": "mEYRDL3dnwWC"
      },
      "outputs": [],
      "source": [
        "df = pd.read_csv(\"10000 Movies Data.csv\")"
      ]
    },
    {
      "cell_type": "markdown",
      "metadata": {},
      "source": [
        "## Step 0.1: Design the Charts\n"
      ]
    },
    {
      "cell_type": "markdown",
      "metadata": {},
      "source": [
        "#### General Chart Design"
      ]
    },
    {
      "cell_type": "code",
      "execution_count": null,
      "metadata": {},
      "outputs": [],
      "source": [
        "def chart_styling(ax, fig, title, bars, logo_path='logo.png'):\n",
        "    fig.patch.set_facecolor('#D3D3D3')\n",
        "    ax.set_facecolor('#D3D3D3')\n",
        "\n",
        "    fig.text(0.09, 1.05, title, fontsize=18, fontweight='bold', fontfamily='serif')\n",
        "\n",
        "    logo = mpimg.imread(logo_path)\n",
        "    logo_ax = fig.add_axes([0.85, 0.85, 0.1, 0.1])\n",
        "    logo_ax.imshow(logo)\n",
        "    logo_ax.axis('off')\n",
        "\n",
        "    ax.grid(axis='y', linestyle='-', alpha=0.2)\n",
        "    ax.set_axisbelow(True)\n",
        "\n",
        "    for spine in ['top', 'right', 'left']:\n",
        "        ax.spines[spine].set_visible(False)\n",
        "\n",
        "    ax.tick_params(axis='both', which='major', labelsize=12)\n",
        "\n",
        "    l1 = lines.Line2D([1, 1], [0, 1], transform=fig.transFigure, figure=fig, color='black', lw=0.2)\n",
        "    fig.lines.extend([l1])\n",
        "\n",
        "    for bar in bars:\n",
        "        bar.set_color('#008080') \n",
        "        \n",
        "    for bar in bars:\n",
        "        bar.set_edgecolor('#000000')\n",
        "        bar.set_linewidth(0.5)\n",
        "\n",
        "    ax.set_xticklabels(ax.get_xticklabels(), rotation=90)"
      ]
    },
    {
      "cell_type": "markdown",
      "metadata": {},
      "source": [
        "### Pie Charts Design"
      ]
    },
    {
      "cell_type": "code",
      "execution_count": null,
      "metadata": {},
      "outputs": [],
      "source": [
        "def pie_chart_styling(values, labels, title, figsize=(18, 10)):\n",
        "    fig, ax = plt.subplots(figsize=figsize)\n",
        "    \n",
        "    total = sum(values)\n",
        "    percentages = [v/total*100 for v in values]\n",
        "    \n",
        "    wedges, texts, autotexts = ax.pie(values,\n",
        "                                     labels=labels,\n",
        "                                     autopct='%1.1f%%',\n",
        "                                     startangle=140,\n",
        "                                     colors=['#ff9999','#66b3ff','#99ff99','#ffcc99'])\n",
        "    \n",
        "    fig.patch.set_facecolor('#f0f0f0')\n",
        "    ax.set_facecolor('#f0f0f0')\n",
        "    \n",
        "    fig.text(0.5, 0.95, title, ha='center', fontsize=18, fontweight='bold', fontfamily='serif')\n",
        "    \n",
        "    for autotext in autotexts:\n",
        "        autotext.set_color('black')\n",
        "        autotext.set_fontsize(12)\n",
        "        autotext.set_fontweight('bold')\n",
        "    \n",
        "    ax.legend([f'{l} ({p:.1f}%)' for l, p in zip(labels, percentages)], \n",
        "             loc='center left', \n",
        "             bbox_to_anchor=(1, 0.5), \n",
        "             fontsize=12)\n",
        "    \n",
        "    plt.show()"
      ]
    },
    {
      "cell_type": "markdown",
      "metadata": {},
      "source": [
        "## Step 1: Data Understanding"
      ]
    },
    {
      "cell_type": "code",
      "execution_count": null,
      "metadata": {
        "ExecuteTime": {
          "end_time": "2025-02-28T12:41:57.540264Z",
          "start_time": "2025-02-28T12:41:57.510755Z"
        },
        "colab": {
          "base_uri": "https://localhost:8080/",
          "height": 1000
        },
        "id": "zn86QbRQnwWD",
        "outputId": "6c9cd82c-1e37-4ef0-9f51-0af9bc2097e4"
      },
      "outputs": [],
      "source": [
        "df.head(5)"
      ]
    },
    {
      "cell_type": "code",
      "execution_count": null,
      "metadata": {},
      "outputs": [],
      "source": [
        "print(df.shape[0])\n",
        "print(df.shape[1])"
      ]
    },
    {
      "cell_type": "code",
      "execution_count": null,
      "metadata": {},
      "outputs": [],
      "source": [
        "df.duplicated().sum()"
      ]
    },
    {
      "cell_type": "code",
      "execution_count": null,
      "metadata": {},
      "outputs": [],
      "source": [
        "df.isnull().sum()"
      ]
    },
    {
      "cell_type": "code",
      "execution_count": null,
      "metadata": {},
      "outputs": [],
      "source": [
        "df.dtypes"
      ]
    },
    {
      "cell_type": "code",
      "execution_count": null,
      "metadata": {},
      "outputs": [],
      "source": [
        "df.describe()"
      ]
    },
    {
      "cell_type": "code",
      "execution_count": null,
      "metadata": {},
      "outputs": [],
      "source": [
        "missingData = df.isnull().sum().sort_values(ascending=False)\n",
        "\n",
        "fig, ax = plt.subplots(figsize=(18, 10))\n",
        "\n",
        "bars = ax.bar(missingData.index, missingData.values)\n",
        "\n",
        "chart_styling(fig= fig, ax = ax, bars= bars, title = \"Missing Values\")\n",
        "\n",
        "plt.show()"
      ]
    },
    {
      "cell_type": "code",
      "execution_count": null,
      "metadata": {},
      "outputs": [],
      "source": [
        "for column in df.columns:\n",
        "    print(f\"{column} : {len(df[column].unique())}\")"
      ]
    },
    {
      "cell_type": "markdown",
      "metadata": {},
      "source": [
        "## Step 2: Data Preperation"
      ]
    },
    {
      "cell_type": "markdown",
      "metadata": {},
      "source": [
        "#### Fix The Genres Datatypes and Names"
      ]
    },
    {
      "cell_type": "code",
      "execution_count": null,
      "metadata": {},
      "outputs": [],
      "source": [
        "def extract_genres(genre_str):\n",
        "    try:\n",
        "        genres = ast.literal_eval(genre_str)\n",
        "        return [g['name'] for g in genres]\n",
        "    except:\n",
        "        return []\n",
        "\n",
        "dataFrame = df[['index', 'title', 'Genres', 'release_date', 'Budget', 'Revenue', 'popularity', 'vote_average', 'vote_count']].copy()\n",
        "dataFrame['Genres'] = dataFrame['Genres'].apply(extract_genres)"
      ]
    },
    {
      "cell_type": "code",
      "execution_count": null,
      "metadata": {},
      "outputs": [],
      "source": [
        "dfGenreExploded = dataFrame.explode('genres')"
      ]
    },
    {
      "cell_type": "markdown",
      "metadata": {},
      "source": [
        "#### Create A New Dataframe From The Values That I Want To Use"
      ]
    },
    {
      "cell_type": "code",
      "execution_count": null,
      "metadata": {},
      "outputs": [],
      "source": [
        "dataFrame.rename(columns={\n",
        "    'index': 'id',\n",
        "    'title': 'title',\n",
        "    'Genres': 'genres',\n",
        "    'release_date': 'releaseDate',\n",
        "    'Budget': 'budget',\n",
        "    'Revenue': 'revenue',\n",
        "    'popularity': 'popularity',\n",
        "    'vote_average': 'rating',\n",
        "    'vote_count': 'votes'\n",
        "}, inplace=True)"
      ]
    },
    {
      "cell_type": "markdown",
      "metadata": {},
      "source": [
        "#### Fix The Inappropriate Data Types"
      ]
    },
    {
      "cell_type": "code",
      "execution_count": null,
      "metadata": {},
      "outputs": [],
      "source": [
        "dataFrame['releaseDate'] = pd.to_datetime(dataFrame['releaseDate'])"
      ]
    },
    {
      "cell_type": "markdown",
      "metadata": {},
      "source": [
        "## Step 3: Feature Understanding"
      ]
    },
    {
      "cell_type": "code",
      "execution_count": 85,
      "metadata": {},
      "outputs": [
        {
          "data": {
            "text/html": [
              "<div>\n",
              "<style scoped>\n",
              "    .dataframe tbody tr th:only-of-type {\n",
              "        vertical-align: middle;\n",
              "    }\n",
              "\n",
              "    .dataframe tbody tr th {\n",
              "        vertical-align: top;\n",
              "    }\n",
              "\n",
              "    .dataframe thead th {\n",
              "        text-align: right;\n",
              "    }\n",
              "</style>\n",
              "<table border=\"1\" class=\"dataframe\">\n",
              "  <thead>\n",
              "    <tr style=\"text-align: right;\">\n",
              "      <th></th>\n",
              "      <th>id</th>\n",
              "      <th>title</th>\n",
              "      <th>genres</th>\n",
              "      <th>releaseDate</th>\n",
              "      <th>budget</th>\n",
              "      <th>revenue</th>\n",
              "      <th>popularity</th>\n",
              "      <th>rating</th>\n",
              "      <th>votes</th>\n",
              "    </tr>\n",
              "  </thead>\n",
              "  <tbody>\n",
              "    <tr>\n",
              "      <th>0</th>\n",
              "      <td>0</td>\n",
              "      <td>The Godfather</td>\n",
              "      <td>[Drama, Crime]</td>\n",
              "      <td>1972-03-14</td>\n",
              "      <td>245066411</td>\n",
              "      <td>245066411</td>\n",
              "      <td>93.552</td>\n",
              "      <td>8.7</td>\n",
              "      <td>16814</td>\n",
              "    </tr>\n",
              "    <tr>\n",
              "      <th>1</th>\n",
              "      <td>1</td>\n",
              "      <td>The Shawshank Redemption</td>\n",
              "      <td>[Drama, Crime]</td>\n",
              "      <td>1994-09-23</td>\n",
              "      <td>28341469</td>\n",
              "      <td>28341469</td>\n",
              "      <td>78.664</td>\n",
              "      <td>8.7</td>\n",
              "      <td>22542</td>\n",
              "    </tr>\n",
              "    <tr>\n",
              "      <th>2</th>\n",
              "      <td>2</td>\n",
              "      <td>The Godfather Part II</td>\n",
              "      <td>[Drama, Crime]</td>\n",
              "      <td>1974-12-20</td>\n",
              "      <td>102600000</td>\n",
              "      <td>102600000</td>\n",
              "      <td>55.752</td>\n",
              "      <td>8.6</td>\n",
              "      <td>10187</td>\n",
              "    </tr>\n",
              "    <tr>\n",
              "      <th>3</th>\n",
              "      <td>3</td>\n",
              "      <td>Dilwale Dulhania Le Jayenge</td>\n",
              "      <td>[Comedy, Drama, Romance]</td>\n",
              "      <td>1995-10-19</td>\n",
              "      <td>100000000</td>\n",
              "      <td>100000000</td>\n",
              "      <td>22.150</td>\n",
              "      <td>8.6</td>\n",
              "      <td>3927</td>\n",
              "    </tr>\n",
              "    <tr>\n",
              "      <th>4</th>\n",
              "      <td>4</td>\n",
              "      <td>Schindler's List</td>\n",
              "      <td>[Drama, History, War]</td>\n",
              "      <td>1993-12-15</td>\n",
              "      <td>321365567</td>\n",
              "      <td>321365567</td>\n",
              "      <td>53.542</td>\n",
              "      <td>8.6</td>\n",
              "      <td>13382</td>\n",
              "    </tr>\n",
              "  </tbody>\n",
              "</table>\n",
              "</div>"
            ],
            "text/plain": [
              "   id                        title                    genres releaseDate  \\\n",
              "0   0                The Godfather            [Drama, Crime]  1972-03-14   \n",
              "1   1     The Shawshank Redemption            [Drama, Crime]  1994-09-23   \n",
              "2   2        The Godfather Part II            [Drama, Crime]  1974-12-20   \n",
              "3   3  Dilwale Dulhania Le Jayenge  [Comedy, Drama, Romance]  1995-10-19   \n",
              "4   4             Schindler's List     [Drama, History, War]  1993-12-15   \n",
              "\n",
              "      budget    revenue  popularity  rating  votes  \n",
              "0  245066411  245066411      93.552     8.7  16814  \n",
              "1   28341469   28341469      78.664     8.7  22542  \n",
              "2  102600000  102600000      55.752     8.6  10187  \n",
              "3  100000000  100000000      22.150     8.6   3927  \n",
              "4  321365567  321365567      53.542     8.6  13382  "
            ]
          },
          "execution_count": 85,
          "metadata": {},
          "output_type": "execute_result"
        }
      ],
      "source": [
        "dataFrame.head(5)"
      ]
    },
    {
      "cell_type": "markdown",
      "metadata": {},
      "source": [
        "#### Count of Movies By Genres"
      ]
    },
    {
      "cell_type": "code",
      "execution_count": null,
      "metadata": {},
      "outputs": [],
      "source": [
        "fig, ax = plt.subplots(figsize=(18, 10))\n",
        "\n",
        "m = dfGenreExploded['genres'].values\n",
        "n = dfGenreExploded['genres'].index\n",
        "\n",
        "\n",
        "bars = sns.barplot(x= m, y= n)\n",
        "\n",
        "chart_styling(ax=ax, fig=fig, title=\"Count of Movies By Genres\", bars=bars.patches)\n",
        "\n",
        "plt.show()"
      ]
    },
    {
      "cell_type": "markdown",
      "metadata": {},
      "source": [
        "#### Distribution of Ratings"
      ]
    },
    {
      "cell_type": "code",
      "execution_count": 91,
      "metadata": {},
      "outputs": [
        {
          "data": {
            "image/png": "[encoded data removed]",
            "text/plain": [
              "<Figure size 1800x1000 with 1 Axes>"
            ]
          },
          "metadata": {},
          "output_type": "display_data"
        }
      ],
      "source": [
        "ratingZeroToThree = dataFrame.query('rating >= 0 and rating <= 3').index\n",
        "ratingFourToSix = dataFrame.query('rating > 3 and rating <= 6').index\n",
        "ratingSevenToTen = dataFrame.query('rating > 6 and rating <= 10').index\n",
        "\n",
        "values = [len(ratingZeroToThree), len(ratingFourToSix), len(ratingSevenToTen)]\n",
        "labels = ['0-3', '4-6', '7-10']\n",
        "\n",
        "pie_chart_styling(values=values, labels=labels, title=\"Distribution of Ratings\")\n",
        "\n",
        "plt.show()"
      ]
    }
  ],
  "metadata": {
    "colab": {
      "provenance": []
    },
    "kernelspec": {
      "display_name": "venv",
      "language": "python",
      "name": "python3"
    },
    "language_info": {
      "codemirror_mode": {
        "name": "ipython",
        "version": 3
      },
      "file_extension": ".py",
      "mimetype": "text/x-python",
      "name": "python",
      "nbconvert_exporter": "python",
      "pygments_lexer": "ipython3",
      "version": "3.13.2"
    }
  },
  "nbformat": 4,
  "nbformat_minor": 0
}
