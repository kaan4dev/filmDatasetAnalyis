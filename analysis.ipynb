{
  "cells": [
    {
      "cell_type": "markdown",
      "metadata": {
        "id": "dSwNXMLVnwV7"
      },
      "source": [
        "## Step 0: Imports and Reading Data"
      ]
    },
    {
      "cell_type": "code",
      "execution_count": null,
      "metadata": {
        "ExecuteTime": {
          "end_time": "2025-02-28T12:41:55.029660Z",
          "start_time": "2025-02-28T12:41:44.180734Z"
        },
        "colab": {
          "base_uri": "https://localhost:8080/"
        },
        "id": "_m2TmIZinwV_",
        "outputId": "468826dd-7e4b-40eb-c726-15fb7d61db14"
      },
      "outputs": [],
      "source": [
        "import pandas as pd\n",
        "import numpy as np\n",
        "import matplotlib.pyplot as plt\n",
        "import matplotlib.patches as patches\n",
        "import matplotlib.ticker as mtick\n",
        "import matplotlib.lines as lines\n",
        "import matplotlib.image as mpimg\n",
        "import matplotlib.colors as mcolors\n",
        "import seaborn as sns\n",
        "import ast\n",
        "\n",
        "import warnings\n",
        "warnings.filterwarnings('ignore')"
      ]
    },
    {
      "cell_type": "code",
      "execution_count": null,
      "metadata": {
        "ExecuteTime": {
          "end_time": "2025-02-28T12:41:57.508717Z",
          "start_time": "2025-02-28T12:41:55.046609Z"
        },
        "id": "mEYRDL3dnwWC"
      },
      "outputs": [],
      "source": [
        "df = pd.read_csv(\"10000 Movies Data.csv\")"
      ]
    },
    {
      "cell_type": "markdown",
      "metadata": {},
      "source": [
        "## Step 0.1: Design the Charts\n"
      ]
    },
    {
      "cell_type": "markdown",
      "metadata": {},
      "source": [
        "#### General Chart Design"
      ]
    },
    {
      "cell_type": "code",
      "execution_count": null,
      "metadata": {},
      "outputs": [],
      "source": [
        "def chartStyling(ax, fig, title, bars, logo_path='logo.png'):\n",
        "    fig.patch.set_facecolor('#D3D3D3')\n",
        "    ax.set_facecolor('#D3D3D3')\n",
        "\n",
        "    fig.text(0.09, 1.05, title, fontsize=18, fontweight='bold', fontfamily='serif')\n",
        "\n",
        "    logo = mpimg.imread(logo_path)\n",
        "    logo_ax = fig.add_axes([0.85, 0.85, 0.1, 0.1])\n",
        "    logo_ax.imshow(logo)\n",
        "    logo_ax.axis('off')\n",
        "\n",
        "    ax.grid(axis='y', linestyle='-', alpha=0.2)\n",
        "    ax.set_axisbelow(True)\n",
        "\n",
        "    for spine in ['top', 'right', 'left']:\n",
        "        ax.spines[spine].set_visible(False)\n",
        "\n",
        "    ax.tick_params(axis='both', which='major', labelsize=12)\n",
        "\n",
        "    l1 = lines.Line2D([1, 1], [0, 1], transform=fig.transFigure, figure=fig, color='black', lw=0.2)\n",
        "    fig.lines.extend([l1])\n",
        "\n",
        "    for bar in bars:\n",
        "        bar.set_color('#008080') \n",
        "        \n",
        "    for bar in bars:\n",
        "        bar.set_edgecolor('#000000')\n",
        "        bar.set_linewidth(0.5)\n",
        "\n",
        "    ax.set_xticklabels(ax.get_xticklabels(), rotation=90)"
      ]
    },
    {
      "cell_type": "markdown",
      "metadata": {},
      "source": [
        "### Pie Charts Design"
      ]
    },
    {
      "cell_type": "code",
      "execution_count": null,
      "metadata": {},
      "outputs": [],
      "source": [
        "def pieChartStyling(values, labels, title, figsize=(18, 10)):\n",
        "    fig, ax = plt.subplots(figsize=figsize)\n",
        "    \n",
        "    total = sum(values)\n",
        "    percentages = [v/total*100 for v in values]\n",
        "    \n",
        "    wedges, texts, autotexts = ax.pie(values,\n",
        "                                     labels=labels,\n",
        "                                     autopct='%1.1f%%',\n",
        "                                     startangle=140,\n",
        "                                     colors=['#ff9999','#66b3ff','#99ff99','#ffcc99'])\n",
        "    \n",
        "    fig.patch.set_facecolor('#f0f0f0')\n",
        "    ax.set_facecolor('#f0f0f0')\n",
        "    \n",
        "    fig.text(0.5, 0.95, title, ha='center', fontsize=18, fontweight='bold', fontfamily='serif')\n",
        "    \n",
        "    for autotext in autotexts:\n",
        "        autotext.set_color('black')\n",
        "        autotext.set_fontsize(12)\n",
        "        autotext.set_fontweight('bold')\n",
        "    \n",
        "    ax.legend([f'{l} ({p:.1f}%)' for l, p in zip(labels, percentages)], \n",
        "             loc='center left', \n",
        "             bbox_to_anchor=(1, 0.5), \n",
        "             fontsize=12)\n",
        "    \n",
        "    plt.show()"
      ]
    },
    {
      "cell_type": "markdown",
      "metadata": {},
      "source": [
        "### Line Chart Design"
      ]
    },
    {
      "cell_type": "code",
      "execution_count": null,
      "metadata": {},
      "outputs": [],
      "source": [
        "\n",
        "def lineChartStyling(ax, fig, title):\n",
        "    fig.patch.set_facecolor('#D3D3D3')\n",
        "    ax.set_facecolor('#D3D3D3')\n",
        "    \n",
        "    fig.text(0.09, 1.05, title, fontsize=18, fontweight='bold', fontfamily='serif')\n",
        "    \n",
        "    ax.grid(axis='y', linestyle='-', alpha=0.2)\n",
        "    ax.set_axisbelow(True)\n",
        "    \n",
        "    for spine in ['top', 'right', 'left']:\n",
        "        ax.spines[spine].set_visible(False)\n",
        "        \n",
        "    ax.tick_params(axis='both', which='major', labelsize=12)\n",
        "    \n",
        "    l1 = lines.Line2D([1, 1], [0, 1], transform=fig.transFigure, figure=fig, color='black', lw=0.2)\n",
        "    fig.lines.extend([l1])\n",
        "\n"
      ]
    },
    {
      "cell_type": "markdown",
      "metadata": {},
      "source": [
        "## Step 1: Data Understanding"
      ]
    },
    {
      "cell_type": "code",
      "execution_count": null,
      "metadata": {
        "ExecuteTime": {
          "end_time": "2025-02-28T12:41:57.540264Z",
          "start_time": "2025-02-28T12:41:57.510755Z"
        },
        "colab": {
          "base_uri": "https://localhost:8080/",
          "height": 1000
        },
        "id": "zn86QbRQnwWD",
        "outputId": "6c9cd82c-1e37-4ef0-9f51-0af9bc2097e4"
      },
      "outputs": [],
      "source": [
        "df.head(5)"
      ]
    },
    {
      "cell_type": "code",
      "execution_count": null,
      "metadata": {},
      "outputs": [],
      "source": [
        "print(df.shape[0])\n",
        "print(df.shape[1])"
      ]
    },
    {
      "cell_type": "code",
      "execution_count": null,
      "metadata": {},
      "outputs": [],
      "source": [
        "df.duplicated().sum()"
      ]
    },
    {
      "cell_type": "code",
      "execution_count": null,
      "metadata": {},
      "outputs": [],
      "source": [
        "df.isnull().sum()"
      ]
    },
    {
      "cell_type": "code",
      "execution_count": null,
      "metadata": {},
      "outputs": [],
      "source": [
        "df.dtypes"
      ]
    },
    {
      "cell_type": "code",
      "execution_count": null,
      "metadata": {},
      "outputs": [],
      "source": [
        "df.describe()"
      ]
    },
    {
      "cell_type": "code",
      "execution_count": null,
      "metadata": {},
      "outputs": [],
      "source": [
        "missingData = df.isnull().sum().sort_values(ascending=False)\n",
        "\n",
        "fig, ax = plt.subplots(figsize=(18, 10))\n",
        "\n",
        "bars = ax.bar(missingData.index, missingData.values)\n",
        "\n",
        "chartStyling(fig= fig, ax = ax, bars= bars, title = \"Missing Values\")\n",
        "\n",
        "plt.show()"
      ]
    },
    {
      "cell_type": "code",
      "execution_count": null,
      "metadata": {},
      "outputs": [],
      "source": [
        "for column in df.columns:\n",
        "    print(f\"{column} : {len(df[column].unique())}\")"
      ]
    },
    {
      "cell_type": "markdown",
      "metadata": {},
      "source": [
        "## Step 2: Data Preperation"
      ]
    },
    {
      "cell_type": "markdown",
      "metadata": {},
      "source": [
        "#### Fix The Genres Datatypes and Names"
      ]
    },
    {
      "cell_type": "code",
      "execution_count": null,
      "metadata": {},
      "outputs": [],
      "source": [
        "def extract_genres(genre_str):\n",
        "    try:\n",
        "        genres = ast.literal_eval(genre_str)\n",
        "        return [g['name'] for g in genres]\n",
        "    except:\n",
        "        return []\n",
        "\n",
        "dataFrame = df[['index', 'title', 'Genres', 'release_date', 'Budget', 'Revenue', 'popularity', 'vote_average', 'vote_count']].copy()\n",
        "dataFrame['genres'] = dataFrame['Genres'].apply(extract_genres)\n",
        "dataFrame.drop('Genres', axis=1, inplace=True)"
      ]
    },
    {
      "cell_type": "code",
      "execution_count": null,
      "metadata": {},
      "outputs": [],
      "source": [
        "dfGenreExploded = dataFrame.explode('genres')"
      ]
    },
    {
      "cell_type": "markdown",
      "metadata": {},
      "source": [
        "#### Create A New DataFrame From The Columns That I Want To Use"
      ]
    },
    {
      "cell_type": "code",
      "execution_count": null,
      "metadata": {},
      "outputs": [],
      "source": [
        "dataFrame = df[['index', 'title', 'Genres', 'release_date', 'Budget', 'Revenue', 'popularity', 'vote_average', 'vote_count']].copy()\n",
        "\n",
        "dataFrame.rename(columns={\n",
        "    'index': 'id',\n",
        "    'title': 'title',\n",
        "    'Genres': 'genres',\n",
        "    'release_date': 'releaseDate',\n",
        "    'Budget': 'budget',\n",
        "    'Revenue': 'revenue',\n",
        "    'popularity': 'popularity',\n",
        "    'vote_average': 'rating',\n",
        "    'vote_count': 'votes'\n",
        "}, inplace=True)"
      ]
    },
    {
      "cell_type": "markdown",
      "metadata": {},
      "source": [
        "#### Fix The Inappropriate Data Types"
      ]
    },
    {
      "cell_type": "code",
      "execution_count": null,
      "metadata": {},
      "outputs": [],
      "source": [
        "dataFrame['releaseDate'] = pd.to_datetime(dataFrame['releaseDate']).dt.date"
      ]
    },
    {
      "cell_type": "markdown",
      "metadata": {},
      "source": [
        "## Step 3: Feature Understanding"
      ]
    },
    {
      "cell_type": "code",
      "execution_count": null,
      "metadata": {},
      "outputs": [],
      "source": [
        "dataFrame.head(5)"
      ]
    },
    {
      "cell_type": "markdown",
      "metadata": {},
      "source": [
        "#### Count of Movies By Genres"
      ]
    },
    {
      "cell_type": "code",
      "execution_count": null,
      "metadata": {},
      "outputs": [],
      "source": [
        "fig, ax = plt.subplots(figsize=(18, 10))\n",
        "\n",
        "m = dfGenreExploded['genres'].values\n",
        "n = dfGenreExploded['genres'].index\n",
        "\n",
        "\n",
        "bars = sns.barplot(x= m, y= n)\n",
        "\n",
        "chartStyling(ax=ax, fig=fig, title=\"Count of Movies By Genres\", bars=bars.patches)\n",
        "\n",
        "plt.show()"
      ]
    },
    {
      "cell_type": "markdown",
      "metadata": {},
      "source": [
        "#### Distribution of Ratings"
      ]
    },
    {
      "cell_type": "code",
      "execution_count": null,
      "metadata": {},
      "outputs": [],
      "source": [
        "ratingZeroToThree = dataFrame.query('rating >= 0 and rating <= 3').index\n",
        "ratingFourToSix = dataFrame.query('rating > 3 and rating <= 6').index\n",
        "ratingSevenToTen = dataFrame.query('rating > 6 and rating <= 10').index\n",
        "\n",
        "values = [len(ratingZeroToThree), len(ratingFourToSix), len(ratingSevenToTen)]\n",
        "labels = ['0-3', '4-6', '7-10']\n",
        "\n",
        "pieChartStyling(values=values, labels=labels, title=\"Distribution of Ratings\")\n",
        "\n",
        "plt.show()"
      ]
    },
    {
      "cell_type": "markdown",
      "metadata": {},
      "source": [
        "#### Distributon of Years"
      ]
    },
    {
      "cell_type": "code",
      "execution_count": null,
      "metadata": {},
      "outputs": [],
      "source": [
        "date1890To1930 = dataFrame[dataFrame['releaseDate'] <= pd.to_datetime('1930-12-31').date()].index\n",
        "date1930To1970 = dataFrame[(dataFrame['releaseDate'] > pd.to_datetime('1930-12-31').date()) & (dataFrame['releaseDate'] <= pd.to_datetime('1970-12-31').date())].index\n",
        "date1970To2010 = dataFrame[(dataFrame['releaseDate'] > pd.to_datetime('1970-12-31').date()) & (dataFrame['releaseDate'] <= pd.to_datetime('2010-12-31').date())].index\n",
        "date2010To2020 = dataFrame[dataFrame['releaseDate'] > pd.to_datetime('2010-12-31').date()].index\n",
        "\n",
        "values = [len(date1890To1930), len(date1930To1970), len(date1970To2010), len(date2010To2020)]\n",
        "labels = ['1890-1930', '1930-1970', '1970-2010', '2010-2020']\n",
        "\n",
        "pieChartStyling(values=values, labels=labels, title=\"Distribution of Release Years\")\n",
        "\n",
        "plt.show()"
      ]
    },
    {
      "cell_type": "markdown",
      "metadata": {},
      "source": [
        "#### Rating In Comparison to Budget\n"
      ]
    },
    {
      "cell_type": "code",
      "execution_count": null,
      "metadata": {},
      "outputs": [],
      "source": [
        "fig, ax = plt.subplots(figsize=(18, 10))\n",
        "\n",
        "sns.lineplot(x='rating', y='budget', data=dataFrame, ax=ax)\n",
        "\n",
        "lineChartStyling(ax=ax, fig=fig, title=\"Rating In Comparison to Budget\")\n",
        "\n",
        "plt.show()"
      ]
    },
    {
      "cell_type": "markdown",
      "metadata": {},
      "source": [
        "#### Rating In Comparison to Popularity"
      ]
    },
    {
      "cell_type": "code",
      "execution_count": null,
      "metadata": {},
      "outputs": [],
      "source": [
        "fig, ax = plt.subplots(figsize=(18, 10))\n",
        "\n",
        "bars = sns.barplot(x='rating', y='popularity', data=dataFrame, ax=ax)\n",
        "\n",
        "chartStyling(ax=ax, fig=fig, title=\"Rating In Comparison to Popularity\", bars=bars.patches)\n",
        "\n",
        "plt.show()"
      ]
    },
    {
      "cell_type": "markdown",
      "metadata": {},
      "source": [
        "#### Correlation Heatmap\n",
        "I didn't take the 'revenue' column because values are exact same with the 'budget' column."
      ]
    },
    {
      "cell_type": "code",
      "execution_count": null,
      "metadata": {},
      "outputs": [],
      "source": [
        "numericColumns = ['budget', 'popularity', 'rating', 'votes']\n",
        "correlation_matrix = dataFrame[numericColumns].corr()"
      ]
    },
    {
      "cell_type": "code",
      "execution_count": null,
      "metadata": {},
      "outputs": [],
      "source": [
        "fig, ax = plt.subplots(figsize=(18, 10))\n",
        "\n",
        "bars = sns.heatmap(correlation_matrix, annot= True)\n",
        "\n",
        "chartStyling(ax=ax, fig=fig, title=\"Correlation Heatmap\", bars=bars.patches)\n",
        "\n",
        "plt.show()"
      ]
    },
    {
      "cell_type": "markdown",
      "metadata": {},
      "source": [
        "#### Pair Plot"
      ]
    },
    {
      "cell_type": "code",
      "execution_count": null,
      "metadata": {},
      "outputs": [],
      "source": [
        "topGenres = dfGenreExploded['genres'].value_counts().head(10).index\n",
        "df_subset = dfGenreExploded[dfGenreExploded['genres'].isin(topGenres)]\n",
        "\n",
        "numericColumns = ['Budget', 'Revenue', 'popularity', 'vote_average', 'vote_count']\n",
        "sns.pairplot(df_subset, vars=numericColumns, hue='genres', palette='viridis', height=2.5)\n",
        "plt.show()\n"
      ]
    }
  ],
  "metadata": {
    "colab": {
      "provenance": []
    },
    "kernelspec": {
      "display_name": "jupyter_env",
      "language": "python",
      "name": "python3"
    },
    "language_info": {
      "codemirror_mode": {
        "name": "ipython",
        "version": 3
      },
      "file_extension": ".py",
      "mimetype": "text/x-python",
      "name": "python",
      "nbconvert_exporter": "python",
      "pygments_lexer": "ipython3",
      "version": "3.13.2"
    }
  },
  "nbformat": 4,
  "nbformat_minor": 0
}
